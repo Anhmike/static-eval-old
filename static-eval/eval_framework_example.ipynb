{
 "cells": [
  {
   "cell_type": "code",
   "execution_count": 7,
   "metadata": {},
   "outputs": [],
   "source": [
    "import os\n",
    "# get current working directory\n",
    "os.getcwd()\n",
    "import sys\n",
    "sys.path.append(\"..\")\n",
    "!pip install fire\n",
    "!pip install torch\n",
    "!pip install langchain\n",
    "!pip install accelerate\n",
    "!pip install datasets\n",
    "!pip install transformers\n",
    "!pip install openai"
   ]
  },
  {
   "cell_type": "code",
   "execution_count": 8,
   "metadata": {},
   "outputs": [],
   "source": [
    "from tasks.legalbench import LBTask\n",
    "from datasets import load_dataset\n",
    "from eval_llm import EvalLLM, LLMConfig\n",
    "from datetime import datetime"
   ]
  },
  {
   "cell_type": "code",
   "execution_count": 9,
   "metadata": {},
   "outputs": [],
   "source": [
    "os.environ[\"OPENAI_API_KEY\"] = \"sk-xxxxxxxxxxxxxxxxxxxxxxxxxxxxxxxxxxxxxxxx\""
   ]
  },
  {
   "cell_type": "code",
   "execution_count": 10,
   "metadata": {},
   "outputs": [
    {
     "name": "stdout",
     "output_type": "stream",
     "text": [
      "['overruling']\n"
     ]
    }
   ],
   "source": [
    "task_dir = \"legalbench\"\n",
    "# gets all legalbench tasks\n",
    "tasks = [\n",
    "name\n",
    "for name in os.listdir(task_dir)\n",
    "if os.path.isdir(os.path.join(task_dir, name))\n",
    "]\n",
    "#tasks = tasks[11:17]\n",
    "tasks = tasks[1:2]\n",
    "print(tasks)"
   ]
  },
  {
   "cell_type": "code",
   "execution_count": 11,
   "metadata": {},
   "outputs": [],
   "source": [
    "# creates a file to store the results in\n",
    "header = True\n",
    "results_filename = str(datetime.now()) + \"_RESULTS.csv\"\n",
    "open(results_filename, \"w+\").close()"
   ]
  },
  {
   "cell_type": "code",
   "execution_count": 12,
   "metadata": {},
   "outputs": [],
   "source": [
    "config = LLMConfig(\n",
    "        model_name=\"gpt-3.5-turbo\",\n",
    "        max_new_tokens=6,\n",
    "        temperature=0.0,\n",
    "        rate_limit=600,\n",
    ")"
   ]
  },
  {
   "cell_type": "code",
   "execution_count": 13,
   "metadata": {},
   "outputs": [],
   "source": [
    "for task_name in tasks:\n",
    "    task = LBTask(task_name, train = False)\n",
    "    \n",
    "    data = task.prepare_data()\n",
    "    \n",
    "    llm = EvalLLM(config, task.prompt_template())\n",
    "    completions = await llm.run(data)\n",
    "    \n",
    "    metrics = task.score(data, completions)\n",
    "    print(metrics)\n",
    "    \n",
    "    # append task result to result_file\n",
    "    results_df = pd.DataFrame({\"test\": [task_name], \"metrics\": [metrics]})\n",
    "    results_df.to_csv(results_filename, mode=\"a\", index=False, header=header)\n",
    "    header = False"
   ]
  },
  {
   "cell_type": "code",
   "execution_count": null,
   "metadata": {},
   "outputs": [],
   "source": []
  }
 ],
 "metadata": {
  "kernelspec": {
   "display_name": "Python 3 (ipykernel)",
   "language": "python",
   "name": "python3"
  },
  "language_info": {
   "codemirror_mode": {
    "name": "ipython",
    "version": 3
   },
   "file_extension": ".py",
   "mimetype": "text/x-python",
   "name": "python",
   "nbconvert_exporter": "python",
   "pygments_lexer": "ipython3",
   "version": "3.10.11"
  }
 },
 "nbformat": 4,
 "nbformat_minor": 4
}
