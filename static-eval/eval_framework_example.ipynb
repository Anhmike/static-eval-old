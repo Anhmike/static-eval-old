{
 "cells": [
  {
   "cell_type": "code",
   "execution_count": 1,
   "metadata": {},
   "outputs": [
    {
     "name": "stdout",
     "output_type": "stream",
     "text": [
      "Requirement already satisfied: fire in /Users/miguel/.virtualenvs/legalbencheval/lib/python3.10/site-packages (0.5.0)\n",
      "Requirement already satisfied: six in /Users/miguel/.virtualenvs/legalbencheval/lib/python3.10/site-packages (from fire) (1.16.0)\n",
      "Requirement already satisfied: termcolor in /Users/miguel/.virtualenvs/legalbencheval/lib/python3.10/site-packages (from fire) (2.3.0)\n",
      "Requirement already satisfied: torch in /Users/miguel/.virtualenvs/legalbencheval/lib/python3.10/site-packages (2.0.1)\n",
      "Requirement already satisfied: filelock in /Users/miguel/.virtualenvs/legalbencheval/lib/python3.10/site-packages (from torch) (3.12.2)\n",
      "Requirement already satisfied: typing-extensions in /Users/miguel/.virtualenvs/legalbencheval/lib/python3.10/site-packages (from torch) (4.6.3)\n",
      "Requirement already satisfied: sympy in /Users/miguel/.virtualenvs/legalbencheval/lib/python3.10/site-packages (from torch) (1.12)\n",
      "Requirement already satisfied: networkx in /Users/miguel/.virtualenvs/legalbencheval/lib/python3.10/site-packages (from torch) (3.1)\n",
      "Requirement already satisfied: jinja2 in /Users/miguel/.virtualenvs/legalbencheval/lib/python3.10/site-packages (from torch) (3.1.2)\n",
      "Requirement already satisfied: MarkupSafe>=2.0 in /Users/miguel/.virtualenvs/legalbencheval/lib/python3.10/site-packages (from jinja2->torch) (2.1.3)\n",
      "Requirement already satisfied: mpmath>=0.19 in /Users/miguel/.virtualenvs/legalbencheval/lib/python3.10/site-packages (from sympy->torch) (1.3.0)\n",
      "Requirement already satisfied: langchain in /Users/miguel/.virtualenvs/legalbencheval/lib/python3.10/site-packages (0.0.215)\n",
      "Requirement already satisfied: PyYAML>=5.4.1 in /Users/miguel/.virtualenvs/legalbencheval/lib/python3.10/site-packages (from langchain) (6.0)\n",
      "Requirement already satisfied: SQLAlchemy<3,>=1.4 in /Users/miguel/.virtualenvs/legalbencheval/lib/python3.10/site-packages (from langchain) (2.0.17)\n",
      "Requirement already satisfied: aiohttp<4.0.0,>=3.8.3 in /Users/miguel/.virtualenvs/legalbencheval/lib/python3.10/site-packages (from langchain) (3.8.4)\n",
      "Requirement already satisfied: async-timeout<5.0.0,>=4.0.0 in /Users/miguel/.virtualenvs/legalbencheval/lib/python3.10/site-packages (from langchain) (4.0.2)\n",
      "Requirement already satisfied: dataclasses-json<0.6.0,>=0.5.7 in /Users/miguel/.virtualenvs/legalbencheval/lib/python3.10/site-packages (from langchain) (0.5.8)\n",
      "Requirement already satisfied: langchainplus-sdk>=0.0.17 in /Users/miguel/.virtualenvs/legalbencheval/lib/python3.10/site-packages (from langchain) (0.0.17)\n",
      "Requirement already satisfied: numexpr<3.0.0,>=2.8.4 in /Users/miguel/.virtualenvs/legalbencheval/lib/python3.10/site-packages (from langchain) (2.8.4)\n",
      "Requirement already satisfied: numpy<2,>=1 in /Users/miguel/.virtualenvs/legalbencheval/lib/python3.10/site-packages (from langchain) (1.25.0)\n",
      "Requirement already satisfied: openapi-schema-pydantic<2.0,>=1.2 in /Users/miguel/.virtualenvs/legalbencheval/lib/python3.10/site-packages (from langchain) (1.2.4)\n",
      "Requirement already satisfied: pydantic<2,>=1 in /Users/miguel/.virtualenvs/legalbencheval/lib/python3.10/site-packages (from langchain) (1.10.9)\n",
      "Requirement already satisfied: requests<3,>=2 in /Users/miguel/.virtualenvs/legalbencheval/lib/python3.10/site-packages (from langchain) (2.31.0)\n",
      "Requirement already satisfied: tenacity<9.0.0,>=8.1.0 in /Users/miguel/.virtualenvs/legalbencheval/lib/python3.10/site-packages (from langchain) (8.2.2)\n",
      "Requirement already satisfied: attrs>=17.3.0 in /Users/miguel/.virtualenvs/legalbencheval/lib/python3.10/site-packages (from aiohttp<4.0.0,>=3.8.3->langchain) (23.1.0)\n",
      "Requirement already satisfied: charset-normalizer<4.0,>=2.0 in /Users/miguel/.virtualenvs/legalbencheval/lib/python3.10/site-packages (from aiohttp<4.0.0,>=3.8.3->langchain) (3.1.0)\n",
      "Requirement already satisfied: multidict<7.0,>=4.5 in /Users/miguel/.virtualenvs/legalbencheval/lib/python3.10/site-packages (from aiohttp<4.0.0,>=3.8.3->langchain) (6.0.4)\n",
      "Requirement already satisfied: yarl<2.0,>=1.0 in /Users/miguel/.virtualenvs/legalbencheval/lib/python3.10/site-packages (from aiohttp<4.0.0,>=3.8.3->langchain) (1.9.2)\n",
      "Requirement already satisfied: frozenlist>=1.1.1 in /Users/miguel/.virtualenvs/legalbencheval/lib/python3.10/site-packages (from aiohttp<4.0.0,>=3.8.3->langchain) (1.3.3)\n",
      "Requirement already satisfied: aiosignal>=1.1.2 in /Users/miguel/.virtualenvs/legalbencheval/lib/python3.10/site-packages (from aiohttp<4.0.0,>=3.8.3->langchain) (1.3.1)\n",
      "Requirement already satisfied: marshmallow<4.0.0,>=3.3.0 in /Users/miguel/.virtualenvs/legalbencheval/lib/python3.10/site-packages (from dataclasses-json<0.6.0,>=0.5.7->langchain) (3.19.0)\n",
      "Requirement already satisfied: marshmallow-enum<2.0.0,>=1.5.1 in /Users/miguel/.virtualenvs/legalbencheval/lib/python3.10/site-packages (from dataclasses-json<0.6.0,>=0.5.7->langchain) (1.5.1)\n",
      "Requirement already satisfied: typing-inspect>=0.4.0 in /Users/miguel/.virtualenvs/legalbencheval/lib/python3.10/site-packages (from dataclasses-json<0.6.0,>=0.5.7->langchain) (0.9.0)\n",
      "Requirement already satisfied: typing-extensions>=4.2.0 in /Users/miguel/.virtualenvs/legalbencheval/lib/python3.10/site-packages (from pydantic<2,>=1->langchain) (4.6.3)\n",
      "Requirement already satisfied: idna<4,>=2.5 in /Users/miguel/.virtualenvs/legalbencheval/lib/python3.10/site-packages (from requests<3,>=2->langchain) (3.4)\n",
      "Requirement already satisfied: urllib3<3,>=1.21.1 in /Users/miguel/.virtualenvs/legalbencheval/lib/python3.10/site-packages (from requests<3,>=2->langchain) (2.0.3)\n",
      "Requirement already satisfied: certifi>=2017.4.17 in /Users/miguel/.virtualenvs/legalbencheval/lib/python3.10/site-packages (from requests<3,>=2->langchain) (2023.5.7)\n",
      "Requirement already satisfied: greenlet!=0.4.17 in /Users/miguel/.virtualenvs/legalbencheval/lib/python3.10/site-packages (from SQLAlchemy<3,>=1.4->langchain) (2.0.2)\n",
      "Requirement already satisfied: packaging>=17.0 in /Users/miguel/.virtualenvs/legalbencheval/lib/python3.10/site-packages (from marshmallow<4.0.0,>=3.3.0->dataclasses-json<0.6.0,>=0.5.7->langchain) (23.1)\n",
      "Requirement already satisfied: mypy-extensions>=0.3.0 in /Users/miguel/.virtualenvs/legalbencheval/lib/python3.10/site-packages (from typing-inspect>=0.4.0->dataclasses-json<0.6.0,>=0.5.7->langchain) (1.0.0)\n",
      "Requirement already satisfied: accelerate in /Users/miguel/.virtualenvs/legalbencheval/lib/python3.10/site-packages (0.20.3)\n",
      "Requirement already satisfied: numpy>=1.17 in /Users/miguel/.virtualenvs/legalbencheval/lib/python3.10/site-packages (from accelerate) (1.25.0)\n",
      "Requirement already satisfied: packaging>=20.0 in /Users/miguel/.virtualenvs/legalbencheval/lib/python3.10/site-packages (from accelerate) (23.1)\n",
      "Requirement already satisfied: psutil in /Users/miguel/.virtualenvs/legalbencheval/lib/python3.10/site-packages (from accelerate) (5.9.5)\n",
      "Requirement already satisfied: pyyaml in /Users/miguel/.virtualenvs/legalbencheval/lib/python3.10/site-packages (from accelerate) (6.0)\n",
      "Requirement already satisfied: torch>=1.6.0 in /Users/miguel/.virtualenvs/legalbencheval/lib/python3.10/site-packages (from accelerate) (2.0.1)\n",
      "Requirement already satisfied: filelock in /Users/miguel/.virtualenvs/legalbencheval/lib/python3.10/site-packages (from torch>=1.6.0->accelerate) (3.12.2)\n",
      "Requirement already satisfied: typing-extensions in /Users/miguel/.virtualenvs/legalbencheval/lib/python3.10/site-packages (from torch>=1.6.0->accelerate) (4.6.3)\n",
      "Requirement already satisfied: sympy in /Users/miguel/.virtualenvs/legalbencheval/lib/python3.10/site-packages (from torch>=1.6.0->accelerate) (1.12)\n",
      "Requirement already satisfied: networkx in /Users/miguel/.virtualenvs/legalbencheval/lib/python3.10/site-packages (from torch>=1.6.0->accelerate) (3.1)\n",
      "Requirement already satisfied: jinja2 in /Users/miguel/.virtualenvs/legalbencheval/lib/python3.10/site-packages (from torch>=1.6.0->accelerate) (3.1.2)\n",
      "Requirement already satisfied: MarkupSafe>=2.0 in /Users/miguel/.virtualenvs/legalbencheval/lib/python3.10/site-packages (from jinja2->torch>=1.6.0->accelerate) (2.1.3)\n",
      "Requirement already satisfied: mpmath>=0.19 in /Users/miguel/.virtualenvs/legalbencheval/lib/python3.10/site-packages (from sympy->torch>=1.6.0->accelerate) (1.3.0)\n"
     ]
    },
    {
     "name": "stdout",
     "output_type": "stream",
     "text": [
      "Requirement already satisfied: datasets in /Users/miguel/.virtualenvs/legalbencheval/lib/python3.10/site-packages (2.13.1)\n",
      "Requirement already satisfied: numpy>=1.17 in /Users/miguel/.virtualenvs/legalbencheval/lib/python3.10/site-packages (from datasets) (1.25.0)\n",
      "Requirement already satisfied: pyarrow>=8.0.0 in /Users/miguel/.virtualenvs/legalbencheval/lib/python3.10/site-packages (from datasets) (12.0.1)\n",
      "Requirement already satisfied: dill<0.3.7,>=0.3.0 in /Users/miguel/.virtualenvs/legalbencheval/lib/python3.10/site-packages (from datasets) (0.3.6)\n",
      "Requirement already satisfied: pandas in /Users/miguel/.virtualenvs/legalbencheval/lib/python3.10/site-packages (from datasets) (2.0.2)\n",
      "Requirement already satisfied: requests>=2.19.0 in /Users/miguel/.virtualenvs/legalbencheval/lib/python3.10/site-packages (from datasets) (2.31.0)\n",
      "Requirement already satisfied: tqdm>=4.62.1 in /Users/miguel/.virtualenvs/legalbencheval/lib/python3.10/site-packages (from datasets) (4.65.0)\n",
      "Requirement already satisfied: xxhash in /Users/miguel/.virtualenvs/legalbencheval/lib/python3.10/site-packages (from datasets) (3.2.0)\n",
      "Requirement already satisfied: multiprocess in /Users/miguel/.virtualenvs/legalbencheval/lib/python3.10/site-packages (from datasets) (0.70.14)\n",
      "Requirement already satisfied: fsspec[http]>=2021.11.1 in /Users/miguel/.virtualenvs/legalbencheval/lib/python3.10/site-packages (from datasets) (2023.6.0)\n",
      "Requirement already satisfied: aiohttp in /Users/miguel/.virtualenvs/legalbencheval/lib/python3.10/site-packages (from datasets) (3.8.4)\n",
      "Requirement already satisfied: huggingface-hub<1.0.0,>=0.11.0 in /Users/miguel/.virtualenvs/legalbencheval/lib/python3.10/site-packages (from datasets) (0.15.1)\n",
      "Requirement already satisfied: packaging in /Users/miguel/.virtualenvs/legalbencheval/lib/python3.10/site-packages (from datasets) (23.1)\n",
      "Requirement already satisfied: pyyaml>=5.1 in /Users/miguel/.virtualenvs/legalbencheval/lib/python3.10/site-packages (from datasets) (6.0)\n",
      "Requirement already satisfied: attrs>=17.3.0 in /Users/miguel/.virtualenvs/legalbencheval/lib/python3.10/site-packages (from aiohttp->datasets) (23.1.0)\n",
      "Requirement already satisfied: charset-normalizer<4.0,>=2.0 in /Users/miguel/.virtualenvs/legalbencheval/lib/python3.10/site-packages (from aiohttp->datasets) (3.1.0)\n",
      "Requirement already satisfied: multidict<7.0,>=4.5 in /Users/miguel/.virtualenvs/legalbencheval/lib/python3.10/site-packages (from aiohttp->datasets) (6.0.4)\n",
      "Requirement already satisfied: async-timeout<5.0,>=4.0.0a3 in /Users/miguel/.virtualenvs/legalbencheval/lib/python3.10/site-packages (from aiohttp->datasets) (4.0.2)\n",
      "Requirement already satisfied: yarl<2.0,>=1.0 in /Users/miguel/.virtualenvs/legalbencheval/lib/python3.10/site-packages (from aiohttp->datasets) (1.9.2)\n",
      "Requirement already satisfied: frozenlist>=1.1.1 in /Users/miguel/.virtualenvs/legalbencheval/lib/python3.10/site-packages (from aiohttp->datasets) (1.3.3)\n",
      "Requirement already satisfied: aiosignal>=1.1.2 in /Users/miguel/.virtualenvs/legalbencheval/lib/python3.10/site-packages (from aiohttp->datasets) (1.3.1)\n",
      "Requirement already satisfied: filelock in /Users/miguel/.virtualenvs/legalbencheval/lib/python3.10/site-packages (from huggingface-hub<1.0.0,>=0.11.0->datasets) (3.12.2)\n",
      "Requirement already satisfied: typing-extensions>=3.7.4.3 in /Users/miguel/.virtualenvs/legalbencheval/lib/python3.10/site-packages (from huggingface-hub<1.0.0,>=0.11.0->datasets) (4.6.3)\n",
      "Requirement already satisfied: idna<4,>=2.5 in /Users/miguel/.virtualenvs/legalbencheval/lib/python3.10/site-packages (from requests>=2.19.0->datasets) (3.4)\n",
      "Requirement already satisfied: urllib3<3,>=1.21.1 in /Users/miguel/.virtualenvs/legalbencheval/lib/python3.10/site-packages (from requests>=2.19.0->datasets) (2.0.3)\n",
      "Requirement already satisfied: certifi>=2017.4.17 in /Users/miguel/.virtualenvs/legalbencheval/lib/python3.10/site-packages (from requests>=2.19.0->datasets) (2023.5.7)\n",
      "Requirement already satisfied: python-dateutil>=2.8.2 in /Users/miguel/.virtualenvs/legalbencheval/lib/python3.10/site-packages (from pandas->datasets) (2.8.2)\n",
      "Requirement already satisfied: pytz>=2020.1 in /Users/miguel/.virtualenvs/legalbencheval/lib/python3.10/site-packages (from pandas->datasets) (2023.3)\n",
      "Requirement already satisfied: tzdata>=2022.1 in /Users/miguel/.virtualenvs/legalbencheval/lib/python3.10/site-packages (from pandas->datasets) (2023.3)\n",
      "Requirement already satisfied: six>=1.5 in /Users/miguel/.virtualenvs/legalbencheval/lib/python3.10/site-packages (from python-dateutil>=2.8.2->pandas->datasets) (1.16.0)\n",
      "Requirement already satisfied: transformers in /Users/miguel/.virtualenvs/legalbencheval/lib/python3.10/site-packages (4.30.2)\n",
      "Requirement already satisfied: filelock in /Users/miguel/.virtualenvs/legalbencheval/lib/python3.10/site-packages (from transformers) (3.12.2)\n",
      "Requirement already satisfied: huggingface-hub<1.0,>=0.14.1 in /Users/miguel/.virtualenvs/legalbencheval/lib/python3.10/site-packages (from transformers) (0.15.1)\n",
      "Requirement already satisfied: numpy>=1.17 in /Users/miguel/.virtualenvs/legalbencheval/lib/python3.10/site-packages (from transformers) (1.25.0)\n",
      "Requirement already satisfied: packaging>=20.0 in /Users/miguel/.virtualenvs/legalbencheval/lib/python3.10/site-packages (from transformers) (23.1)\n",
      "Requirement already satisfied: pyyaml>=5.1 in /Users/miguel/.virtualenvs/legalbencheval/lib/python3.10/site-packages (from transformers) (6.0)\n",
      "Requirement already satisfied: regex!=2019.12.17 in /Users/miguel/.virtualenvs/legalbencheval/lib/python3.10/site-packages (from transformers) (2023.6.3)\n",
      "Requirement already satisfied: requests in /Users/miguel/.virtualenvs/legalbencheval/lib/python3.10/site-packages (from transformers) (2.31.0)\n",
      "Requirement already satisfied: tokenizers!=0.11.3,<0.14,>=0.11.1 in /Users/miguel/.virtualenvs/legalbencheval/lib/python3.10/site-packages (from transformers) (0.13.3)\n",
      "Requirement already satisfied: safetensors>=0.3.1 in /Users/miguel/.virtualenvs/legalbencheval/lib/python3.10/site-packages (from transformers) (0.3.1)\n",
      "Requirement already satisfied: tqdm>=4.27 in /Users/miguel/.virtualenvs/legalbencheval/lib/python3.10/site-packages (from transformers) (4.65.0)\n",
      "Requirement already satisfied: fsspec in /Users/miguel/.virtualenvs/legalbencheval/lib/python3.10/site-packages (from huggingface-hub<1.0,>=0.14.1->transformers) (2023.6.0)\n",
      "Requirement already satisfied: typing-extensions>=3.7.4.3 in /Users/miguel/.virtualenvs/legalbencheval/lib/python3.10/site-packages (from huggingface-hub<1.0,>=0.14.1->transformers) (4.6.3)\n",
      "Requirement already satisfied: charset-normalizer<4,>=2 in /Users/miguel/.virtualenvs/legalbencheval/lib/python3.10/site-packages (from requests->transformers) (3.1.0)\n",
      "Requirement already satisfied: idna<4,>=2.5 in /Users/miguel/.virtualenvs/legalbencheval/lib/python3.10/site-packages (from requests->transformers) (3.4)\n",
      "Requirement already satisfied: urllib3<3,>=1.21.1 in /Users/miguel/.virtualenvs/legalbencheval/lib/python3.10/site-packages (from requests->transformers) (2.0.3)\n",
      "Requirement already satisfied: certifi>=2017.4.17 in /Users/miguel/.virtualenvs/legalbencheval/lib/python3.10/site-packages (from requests->transformers) (2023.5.7)\n",
      "Requirement already satisfied: openai in /Users/miguel/.virtualenvs/legalbencheval/lib/python3.10/site-packages (0.27.8)\n",
      "Requirement already satisfied: requests>=2.20 in /Users/miguel/.virtualenvs/legalbencheval/lib/python3.10/site-packages (from openai) (2.31.0)\n",
      "Requirement already satisfied: tqdm in /Users/miguel/.virtualenvs/legalbencheval/lib/python3.10/site-packages (from openai) (4.65.0)\n",
      "Requirement already satisfied: aiohttp in /Users/miguel/.virtualenvs/legalbencheval/lib/python3.10/site-packages (from openai) (3.8.4)\n",
      "Requirement already satisfied: charset-normalizer<4,>=2 in /Users/miguel/.virtualenvs/legalbencheval/lib/python3.10/site-packages (from requests>=2.20->openai) (3.1.0)\n",
      "Requirement already satisfied: idna<4,>=2.5 in /Users/miguel/.virtualenvs/legalbencheval/lib/python3.10/site-packages (from requests>=2.20->openai) (3.4)\n",
      "Requirement already satisfied: urllib3<3,>=1.21.1 in /Users/miguel/.virtualenvs/legalbencheval/lib/python3.10/site-packages (from requests>=2.20->openai) (2.0.3)\n",
      "Requirement already satisfied: certifi>=2017.4.17 in /Users/miguel/.virtualenvs/legalbencheval/lib/python3.10/site-packages (from requests>=2.20->openai) (2023.5.7)\n"
     ]
    },
    {
     "name": "stdout",
     "output_type": "stream",
     "text": [
      "Requirement already satisfied: attrs>=17.3.0 in /Users/miguel/.virtualenvs/legalbencheval/lib/python3.10/site-packages (from aiohttp->openai) (23.1.0)\r\n",
      "Requirement already satisfied: multidict<7.0,>=4.5 in /Users/miguel/.virtualenvs/legalbencheval/lib/python3.10/site-packages (from aiohttp->openai) (6.0.4)\r\n",
      "Requirement already satisfied: async-timeout<5.0,>=4.0.0a3 in /Users/miguel/.virtualenvs/legalbencheval/lib/python3.10/site-packages (from aiohttp->openai) (4.0.2)\r\n",
      "Requirement already satisfied: yarl<2.0,>=1.0 in /Users/miguel/.virtualenvs/legalbencheval/lib/python3.10/site-packages (from aiohttp->openai) (1.9.2)\r\n",
      "Requirement already satisfied: frozenlist>=1.1.1 in /Users/miguel/.virtualenvs/legalbencheval/lib/python3.10/site-packages (from aiohttp->openai) (1.3.3)\r\n",
      "Requirement already satisfied: aiosignal>=1.1.2 in /Users/miguel/.virtualenvs/legalbencheval/lib/python3.10/site-packages (from aiohttp->openai) (1.3.1)\r\n"
     ]
    }
   ],
   "source": [
    "import os\n",
    "# get current working directory\n",
    "os.getcwd()\n",
    "import sys\n",
    "sys.path.append(\"..\")\n",
    "!pip install fire\n",
    "!pip install torch\n",
    "!pip install langchain\n",
    "!pip install accelerate\n",
    "!pip install datasets\n",
    "!pip install transformers\n",
    "!pip install openai\n"
   ]
  },
  {
   "cell_type": "code",
   "execution_count": 2,
   "metadata": {},
   "outputs": [],
   "source": [
    "from tasks.legalbench import LBTask\n",
    "from datasets import load_dataset\n",
    "from eval_llm import EvalLLM, LLMConfig\n",
    "from datetime import datetime\n",
    "import pandas as pd"
   ]
  },
  {
   "cell_type": "code",
   "execution_count": 3,
   "metadata": {},
   "outputs": [],
   "source": [
    "os.environ[\"OPENAI_API_KEY\"] = \"sk-xxxxx\""
   ]
  },
  {
   "cell_type": "code",
   "execution_count": 4,
   "metadata": {},
   "outputs": [
    {
     "name": "stdout",
     "output_type": "stream",
     "text": [
      "['cuad_governing_law']\n"
     ]
    }
   ],
   "source": [
    "task_dir = \"legalbench\"\n",
    "# gets all legalbench tasks\n",
    "tasks = [\n",
    "name\n",
    "for name in os.listdir(task_dir)\n",
    "if os.path.isdir(os.path.join(task_dir, name))\n",
    "]\n",
    "#tasks = tasks[11:17]\n",
    "tasks = tasks[1:2]\n",
    "print(tasks)"
   ]
  },
  {
   "cell_type": "code",
   "execution_count": 5,
   "metadata": {},
   "outputs": [],
   "source": [
    "# creates a file to store the results in\n",
    "header = True\n",
    "results_filename = str(datetime.now()) + \"_RESULTS.csv\"\n",
    "open(results_filename, \"w+\").close()"
   ]
  },
  {
   "cell_type": "code",
   "execution_count": 6,
   "metadata": {},
   "outputs": [],
   "source": [
    "config = LLMConfig(\n",
    "        model_name=\"gpt-3.5-turbo\",\n",
    "        max_new_tokens=6,\n",
    "        temperature=0.0,\n",
    "        rate_limit=600,\n",
    ")"
   ]
  },
  {
   "cell_type": "code",
   "execution_count": 7,
   "metadata": {},
   "outputs": [
    {
     "name": "stdout",
     "output_type": "stream",
     "text": [
      "Generating completions with rate limit of 600 calls per minute\n"
     ]
    },
    {
     "name": "stderr",
     "output_type": "stream",
     "text": [
      "100%|█████████████████████████████████████████████| 1/1 [00:02<00:00,  2.28s/it]"
     ]
    },
    {
     "name": "stdout",
     "output_type": "stream",
     "text": [
      "Finished generating completions in 2.32 seconds\n",
      "{'accuracy': 1.0}\n"
     ]
    },
    {
     "name": "stderr",
     "output_type": "stream",
     "text": [
      "\n"
     ]
    }
   ],
   "source": [
    "for task_name in tasks:\n",
    "    task = LBTask(task_name, train = False)\n",
    "    \n",
    "    data = task.prepare_data()\n",
    "    \n",
    "    llm = EvalLLM(config, task.prompt_template())\n",
    "    completions = await llm.run(data)\n",
    "    \n",
    "    metrics = task.score(data, completions)\n",
    "    print(metrics)\n",
    "    \n",
    "    # append task result to result_file\n",
    "    results_df = pd.DataFrame({\"test\": [task_name], \"metrics\": [metrics]})\n",
    "    results_df.to_csv(results_filename, mode=\"a\", index=False, header=header)\n",
    "    header = False"
   ]
  },
  {
   "cell_type": "code",
   "execution_count": null,
   "metadata": {},
   "outputs": [],
   "source": []
  }
 ],
 "metadata": {
  "kernelspec": {
   "display_name": "legalbencheval",
   "language": "python",
   "name": "legalbencheval"
  },
  "language_info": {
   "codemirror_mode": {
    "name": "ipython",
    "version": 3
   },
   "file_extension": ".py",
   "mimetype": "text/x-python",
   "name": "python",
   "nbconvert_exporter": "python",
   "pygments_lexer": "ipython3",
   "version": "3.10.9"
  }
 },
 "nbformat": 4,
 "nbformat_minor": 4
}
